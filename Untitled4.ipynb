{
  "nbformat": 4,
  "nbformat_minor": 0,
  "metadata": {
    "colab": {
      "provenance": [],
      "authorship_tag": "ABX9TyPVPw/FJrodYCKRJQzXnM7A",
      "include_colab_link": true
    },
    "kernelspec": {
      "name": "python3",
      "display_name": "Python 3"
    },
    "language_info": {
      "name": "python"
    }
  },
  "cells": [
    {
      "cell_type": "markdown",
      "metadata": {
        "id": "view-in-github",
        "colab_type": "text"
      },
      "source": [
        "<a href=\"https://colab.research.google.com/github/Agu890104/Introduction-to-Computers/blob/main/Untitled4.ipynb\" target=\"_parent\"><img src=\"https://colab.research.google.com/assets/colab-badge.svg\" alt=\"Open In Colab\"/></a>"
      ]
    },
    {
      "cell_type": "code",
      "execution_count": 3,
      "metadata": {
        "colab": {
          "base_uri": "https://localhost:8080/"
        },
        "id": "SOIVMJCg4tI2",
        "outputId": "17a92d9c-8a17-446b-b360-679bc8169ff0"
      },
      "outputs": [
        {
          "output_type": "stream",
          "name": "stdout",
          "text": [
            "cctv\n",
            "4.00\n"
          ]
        }
      ],
      "source": [
        "a = input()\n",
        "qq = len(a)\n",
        "print('%.2f' % qq )"
      ]
    },
    {
      "cell_type": "code",
      "source": [
        "height, weight = map(float,input().split())\n",
        "bmi = weight / ((height / 100)**2)\n",
        "print(\"%.2f\"% bmi)"
      ],
      "metadata": {
        "colab": {
          "base_uri": "https://localhost:8080/"
        },
        "id": "ExT-UvYy41E1",
        "outputId": "825caedf-73fa-43e8-b0a9-63ef534bfc2a"
      },
      "execution_count": 6,
      "outputs": [
        {
          "output_type": "stream",
          "name": "stdout",
          "text": [
            "178.3 76.2\n",
            "23.97\n"
          ]
        }
      ]
    },
    {
      "cell_type": "code",
      "source": [
        "a = input(\"請輸入字串\")\n",
        "print(a.upper())\n",
        "print(a.lower())\n",
        "print(a.capitalize())\n",
        "print(a.title())"
      ],
      "metadata": {
        "colab": {
          "base_uri": "https://localhost:8080/"
        },
        "id": "9PJftlPW5giP",
        "outputId": "190d50b5-82ef-4aa3-852a-738ecd821844"
      },
      "execution_count": 9,
      "outputs": [
        {
          "output_type": "stream",
          "name": "stdout",
          "text": [
            "請輸入字串Hello heeeee\n",
            "HELLO HEEEEE\n",
            "hello heeeee\n",
            "Hello heeeee\n",
            "Hello Heeeee\n"
          ]
        }
      ]
    },
    {
      "cell_type": "code",
      "source": [
        "print(\"hhhh\\ngggg\")"
      ],
      "metadata": {
        "colab": {
          "base_uri": "https://localhost:8080/"
        },
        "id": "7tr-Sdog6Nhd",
        "outputId": "c0a2d5c1-f561-4259-d598-7dab5d536799"
      },
      "execution_count": 17,
      "outputs": [
        {
          "output_type": "stream",
          "name": "stdout",
          "text": [
            "hhhh\n",
            "gggg\n"
          ]
        }
      ]
    },
    {
      "cell_type": "code",
      "source": [],
      "metadata": {
        "id": "nKNmw96Q7Vi1"
      },
      "execution_count": null,
      "outputs": []
    }
  ]
}