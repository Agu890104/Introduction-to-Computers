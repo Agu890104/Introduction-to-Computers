{
  "nbformat": 4,
  "nbformat_minor": 0,
  "metadata": {
    "colab": {
      "provenance": [],
      "authorship_tag": "ABX9TyPgdxIDkbRHzo+VIpSTZTZD",
      "include_colab_link": true
    },
    "kernelspec": {
      "name": "python3",
      "display_name": "Python 3"
    },
    "language_info": {
      "name": "python"
    }
  },
  "cells": [
    {
      "cell_type": "markdown",
      "metadata": {
        "id": "view-in-github",
        "colab_type": "text"
      },
      "source": [
        "<a href=\"https://colab.research.google.com/github/Agu890104/Introduction-to-Computers/blob/main/0508.ipynb\" target=\"_parent\"><img src=\"https://colab.research.google.com/assets/colab-badge.svg\" alt=\"Open In Colab\"/></a>"
      ]
    },
    {
      "cell_type": "code",
      "execution_count": 22,
      "metadata": {
        "colab": {
          "base_uri": "https://localhost:8080/"
        },
        "id": "pVu_PlZtjbfD",
        "outputId": "81aef896-1872-44f8-d377-4119993c0ca4"
      },
      "outputs": [
        {
          "output_type": "stream",
          "name": "stdout",
          "text": [
            "34.8\n",
            "體溫正常!\n"
          ]
        }
      ],
      "source": [
        "x = float(input())\n",
        "if x >= 37.5 :\n",
        "  print(\"體溫過高!\")\n",
        "elif x >= 37 and x <= 37.4 :\n",
        "  print(\"體溫略高!\")\n",
        "elif x >= 34 and x <= 36.9 :\n",
        "    print(\"體溫正常!\")\n",
        "elif x < 34 :\n",
        "    print(\"體溫異常，請重新量測!\")"
      ]
    },
    {
      "cell_type": "code",
      "source": [
        "x = int(input(\"請輸入成績\"))\n",
        "if x >= 90 :\n",
        "  print(\"A\")\n",
        "elif x <= 89 and x >= 80 :\n",
        "  print(\"B\")\n",
        "elif x <= 79 and x >= 70 :\n",
        "  print(\"C\")\n",
        "elif x <= 69 and x >= 60 :\n",
        "  print(\"D\")\n",
        "else :\n",
        "  print(\"E\")"
      ],
      "metadata": {
        "colab": {
          "base_uri": "https://localhost:8080/"
        },
        "id": "_waE0_41lBYe",
        "outputId": "3eb713f6-4d42-4deb-fcfd-d29645815242"
      },
      "execution_count": 28,
      "outputs": [
        {
          "output_type": "stream",
          "name": "stdout",
          "text": [
            "請輸入成績63\n",
            "D\n"
          ]
        }
      ]
    },
    {
      "cell_type": "code",
      "source": [
        "x = int(input(\"請輸入月份:\"))\n",
        "if x == 3 or x == 4 or x == 5 :\n",
        "  print(f\"{x}月是春天\")\n",
        "elif x == 6 or x == 7 or x == 8 :\n",
        "  print(f\"{x}月是夏天\")\n",
        "elif x == 9 or x == 10 or x == 11 :\n",
        "  print(f\"{x}月是秋天\")\n",
        "elif x == 12 or x == 1 or x == 2 :\n",
        "  print(f\"{x}月是冬天\")\n",
        "else :\n",
        "  print(\"月份不在範圍內!\")"
      ],
      "metadata": {
        "colab": {
          "base_uri": "https://localhost:8080/"
        },
        "id": "RKDtWaiYnf_9",
        "outputId": "5146c0f1-c447-43d0-fba7-d29e69b3f2f3"
      },
      "execution_count": 36,
      "outputs": [
        {
          "output_type": "stream",
          "name": "stdout",
          "text": [
            "請輸入月份:30\n",
            "月份不在範圍內!\n"
          ]
        }
      ]
    }
  ]
}