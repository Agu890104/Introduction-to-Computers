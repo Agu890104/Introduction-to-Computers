{
  "nbformat": 4,
  "nbformat_minor": 0,
  "metadata": {
    "colab": {
      "provenance": [],
      "authorship_tag": "ABX9TyOMAEczmAEKzs28exm5Onug",
      "include_colab_link": true
    },
    "kernelspec": {
      "name": "python3",
      "display_name": "Python 3"
    },
    "language_info": {
      "name": "python"
    }
  },
  "cells": [
    {
      "cell_type": "markdown",
      "metadata": {
        "id": "view-in-github",
        "colab_type": "text"
      },
      "source": [
        "<a href=\"https://colab.research.google.com/github/Agu890104/Introduction-to-Computers/blob/main/Untitled2.ipynb\" target=\"_parent\"><img src=\"https://colab.research.google.com/assets/colab-badge.svg\" alt=\"Open In Colab\"/></a>"
      ]
    },
    {
      "cell_type": "code",
      "execution_count": 2,
      "metadata": {
        "colab": {
          "base_uri": "https://localhost:8080/"
        },
        "id": "r4qZlslwyqqE",
        "outputId": "84a23528-3546-4a6a-bb23-ca9995e5bb80"
      },
      "outputs": [
        {
          "output_type": "stream",
          "name": "stdout",
          "text": [
            "Hello World\n"
          ]
        }
      ],
      "source": [
        "print(\"Hello World\")"
      ]
    },
    {
      "cell_type": "code",
      "source": [
        "攝氏 = float(input(\"請輸入攝氏溫度\"))\n",
        "華氏 = 攝氏*9/5+32\n",
        "print(華氏)"
      ],
      "metadata": {
        "colab": {
          "base_uri": "https://localhost:8080/"
        },
        "id": "f1VNyie8yrLr",
        "outputId": "cd40164f-5c77-41f7-b3ac-b3baf7674a0e"
      },
      "execution_count": 3,
      "outputs": [
        {
          "output_type": "stream",
          "name": "stdout",
          "text": [
            "請輸入攝氏溫度32.5\n",
            "90.5\n"
          ]
        }
      ]
    },
    {
      "cell_type": "code",
      "source": [
        "print(len(\"hello python\"))"
      ],
      "metadata": {
        "colab": {
          "base_uri": "https://localhost:8080/"
        },
        "id": "6kRpYe7vzLyy",
        "outputId": "0896f7c4-3ea8-4e4b-c1ce-3438daf87a4e"
      },
      "execution_count": 5,
      "outputs": [
        {
          "output_type": "stream",
          "name": "stdout",
          "text": [
            "12\n"
          ]
        }
      ]
    },
    {
      "cell_type": "code",
      "source": [
        "num = 2.9999999\n",
        "round_num = round(num,1)\n",
        "print(round_num)"
      ],
      "metadata": {
        "colab": {
          "base_uri": "https://localhost:8080/"
        },
        "id": "obRr7TzMzgQk",
        "outputId": "dff97e57-e5c9-4f60-ed2f-043286db1994"
      },
      "execution_count": 12,
      "outputs": [
        {
          "output_type": "stream",
          "name": "stdout",
          "text": [
            "3.0\n"
          ]
        }
      ]
    },
    {
      "cell_type": "code",
      "source": [
        "x = 2.851\n",
        "w = round(x,2)\n",
        "print(w)"
      ],
      "metadata": {
        "colab": {
          "base_uri": "https://localhost:8080/"
        },
        "id": "dIJgvp9AzylD",
        "outputId": "dce71ca7-5975-4b98-9146-f381ea39a66c"
      },
      "execution_count": 16,
      "outputs": [
        {
          "output_type": "stream",
          "name": "stdout",
          "text": [
            "2.85\n"
          ]
        }
      ]
    },
    {
      "cell_type": "code",
      "source": [
        "體重  = float(input('請輸入你的體重(公斤)'))\n",
        "身高公分 =  float(input(\"請輸入你的身高(公分)\"))\n",
        "\n",
        "BMI = 體重 / (身高公分/100) **2\n",
        "BMI = round(BMI,2)\n",
        "print(BMI)"
      ],
      "metadata": {
        "colab": {
          "base_uri": "https://localhost:8080/"
        },
        "id": "jRbRKhokzzwE",
        "outputId": "01e9ce08-6df3-431d-ae7a-98cb57306c04"
      },
      "execution_count": 20,
      "outputs": [
        {
          "output_type": "stream",
          "name": "stdout",
          "text": [
            "請輸入你的體重(公斤)57\n",
            "請輸入你的身高(公分)167\n",
            "20.44\n"
          ]
        }
      ]
    },
    {
      "cell_type": "code",
      "source": [
        "print(sum(range(1,101)))"
      ],
      "metadata": {
        "colab": {
          "base_uri": "https://localhost:8080/"
        },
        "id": "CgnpCWd00rzU",
        "outputId": "2f7c25c8-b6b7-48b9-d2a0-ec2a95c429b2"
      },
      "execution_count": 25,
      "outputs": [
        {
          "output_type": "stream",
          "name": "stdout",
          "text": [
            "5050\n"
          ]
        }
      ]
    },
    {
      "cell_type": "code",
      "source": [
        "總和 = sum(range(1,101))\n",
        "print(總和)"
      ],
      "metadata": {
        "colab": {
          "base_uri": "https://localhost:8080/"
        },
        "id": "y0wQYR7Z1l59",
        "outputId": "dbe9250c-8e55-4f36-f199-e8d54b62a29d"
      },
      "execution_count": 22,
      "outputs": [
        {
          "output_type": "stream",
          "name": "stdout",
          "text": [
            "5050\n"
          ]
        }
      ]
    },
    {
      "cell_type": "code",
      "source": [
        "x = int(input(\"開始\"))\n",
        "y = int(input(\"結束\"))\n",
        "z = int(sum(range(x,y+1)))\n",
        "print(z)"
      ],
      "metadata": {
        "colab": {
          "base_uri": "https://localhost:8080/"
        },
        "id": "L0O4FVmF1wGV",
        "outputId": "3a2efe3f-bad7-43e9-fdbc-02f8177dbec5"
      },
      "execution_count": 28,
      "outputs": [
        {
          "output_type": "stream",
          "name": "stdout",
          "text": [
            "開始1\n",
            "結束100\n",
            "5050\n"
          ]
        }
      ]
    },
    {
      "cell_type": "code",
      "source": [
        "x = int(input(\"開始\"))\n",
        "y = int(input(\"結束\"))\n",
        "z = int(sum(range(x,y+1,2)))\n",
        "print(z)"
      ],
      "metadata": {
        "colab": {
          "base_uri": "https://localhost:8080/"
        },
        "id": "oGhkSxau2TVk",
        "outputId": "2779e1ae-97c2-40af-90be-6b7dd3e1023d"
      },
      "execution_count": 38,
      "outputs": [
        {
          "output_type": "stream",
          "name": "stdout",
          "text": [
            "開始1\n",
            "結束50\n",
            "625\n"
          ]
        }
      ]
    },
    {
      "cell_type": "code",
      "source": [
        "5x= sum(range(1,50,2))\n",
        "x"
      ],
      "metadata": {
        "colab": {
          "base_uri": "https://localhost:8080/"
        },
        "id": "zq_bxMJq2qeN",
        "outputId": "2d74e4a9-48c6-4fdf-aded-767b2da92e4c"
      },
      "execution_count": 34,
      "outputs": [
        {
          "output_type": "execute_result",
          "data": {
            "text/plain": [
              "625"
            ]
          },
          "metadata": {},
          "execution_count": 34
        }
      ]
    },
    {
      "cell_type": "code",
      "source": [],
      "metadata": {
        "id": "SHBb2aDw3FsN"
      },
      "execution_count": null,
      "outputs": []
    }
  ]
}